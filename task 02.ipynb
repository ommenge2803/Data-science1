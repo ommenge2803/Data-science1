{
 "cells": [
  {
   "cell_type": "markdown",
   "id": "30da3f60",
   "metadata": {},
   "source": [
    "SET METHODS\n",
    "\n"
   ]
  },
  {
   "cell_type": "code",
   "execution_count": 21,
   "id": "c7462c9e",
   "metadata": {},
   "outputs": [
    {
     "name": "stdout",
     "output_type": "stream",
     "text": [
      "\n",
      " add(4): {1, 2, 3, 4}\n",
      " \n",
      " update([5, 6]): {1, 2, 3, 4, 5, 6}\n",
      " \n",
      " remove(2): {1, 3, 4, 5, 6}\n",
      " \n",
      " discard(10): {1, 3, 4, 5, 6}\n",
      "Popped element: 1\n",
      " \n",
      " pop(): {3, 4, 5, 6}\n",
      "  \n",
      " Copied set: {3, 4, 5, 6}\n",
      " \n",
      " clear(): set()\n",
      "Union()\n",
      "{1, 2, 3}\n"
     ]
    }
   ],
   "source": [
    "# Define one set\n",
    "set = {1, 2, 3}\n",
    "\n",
    "# add()\n",
    "set.add(4)\n",
    "print(\"\\n add(4):\",set ) \n",
    "\n",
    "# update()\n",
    "set.update([5, 6])\n",
    "print(\" \\n update([5, 6]):\", set)  \n",
    "\n",
    "# remove()\n",
    "set.remove(2)\n",
    "print(\" \\n remove(2):\",set)  \n",
    "\n",
    "# discard()\n",
    "set.discard(10)  # No error\n",
    "print(\" \\n discard(10):\",set)\n",
    "\n",
    "# pop()\n",
    "popped = set.pop()\n",
    "print(\"Popped element:\", popped)\n",
    "print(\" \\n pop():\", set)\n",
    "\n",
    "# copy()\n",
    "copy_of_set = set.copy()\n",
    "print(\"  \\n Copied set:\", copy_of_set)\n",
    "\n",
    "# clear()\n",
    "copy_of_set.clear()\n",
    "print(\" \\n clear():\", copy_of_set)\n",
    "\n",
    "#Combines two sets no duplicates.\n",
    "a = {1, 2}\n",
    "b = {2, 3}\n",
    "print(\"Union()\", )\n",
    "print( a.union(b)) \n",
    "\n"
   ]
  },
  {
   "cell_type": "markdown",
   "id": "4621c886",
   "metadata": {},
   "source": [
    "TUPLE METHODS\n"
   ]
  },
  {
   "cell_type": "code",
   "execution_count": 28,
   "id": "88bb48ab",
   "metadata": {},
   "outputs": [
    {
     "name": "stdout",
     "output_type": "stream",
     "text": [
      "Count of 2: 2\n",
      "Index of 3: 3\n",
      "Length: 5\n",
      "minumum: 1\n",
      "maximum: 4\n",
      "sum: 12\n"
     ]
    }
   ],
   "source": [
    "# Define a tuple\n",
    "tuple = (1, 2, 2, 3, 4)\n",
    "\n",
    "# count()\n",
    "print(\"Count of 2:\",tuple.count(2))  # 2\n",
    "\n",
    "# index()\n",
    "print(\"Index of 3:\",tuple.index(3))  # 3\n",
    "\n",
    "#length\n",
    "print(\"Length:\", len(tuple))\n",
    "\n",
    "#min,max\n",
    "print(\"minumum:\",min(tuple)) \n",
    "print(\"maximum:\",max(tuple)) \n",
    "\n",
    "#sum\n",
    "t = (1, 2, 3)\n",
    "print(\"sum:\",sum(tuple))\n"
   ]
  }
 ],
 "metadata": {
  "kernelspec": {
   "display_name": "Python 3",
   "language": "python",
   "name": "python3"
  },
  "language_info": {
   "codemirror_mode": {
    "name": "ipython",
    "version": 3
   },
   "file_extension": ".py",
   "mimetype": "text/x-python",
   "name": "python",
   "nbconvert_exporter": "python",
   "pygments_lexer": "ipython3",
   "version": "3.13.4"
  }
 },
 "nbformat": 4,
 "nbformat_minor": 5
}
